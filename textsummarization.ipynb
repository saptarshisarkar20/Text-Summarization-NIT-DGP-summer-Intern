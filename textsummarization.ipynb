{
  "nbformat": 4,
  "nbformat_minor": 0,
  "metadata": {
    "colab": {
      "provenance": [],
      "collapsed_sections": []
    },
    "kernelspec": {
      "name": "python3",
      "display_name": "Python 3"
    },
    "language_info": {
      "name": "python"
    },
    "accelerator": "GPU"
  },
  "cells": [
    {
      "cell_type": "markdown",
      "source": [],
      "metadata": {
        "id": "S7dche4Tyy9C"
      }
    },
    {
      "cell_type": "code",
      "source": [
        "from google.colab import drive\n",
        "drive.mount('/content/drive')"
      ],
      "metadata": {
        "colab": {
          "base_uri": "https://localhost:8080/"
        },
        "id": "WXMFcbzAP5Qg",
        "outputId": "f0c07a9b-b5bc-49b8-ff20-2b2fb4c570b2"
      },
      "execution_count": null,
      "outputs": [
        {
          "output_type": "stream",
          "name": "stdout",
          "text": [
            "Drive already mounted at /content/drive; to attempt to forcibly remount, call drive.mount(\"/content/drive\", force_remount=True).\n"
          ]
        }
      ]
    },
    {
      "cell_type": "code",
      "execution_count": null,
      "metadata": {
        "colab": {
          "base_uri": "https://localhost:8080/"
        },
        "id": "extGzUmQ0xht",
        "outputId": "039e2429-1835-4d13-81ef-e8260d8de7c4"
      },
      "outputs": [
        {
          "output_type": "stream",
          "name": "stderr",
          "text": [
            "[nltk_data] Downloading package wordnet to /root/nltk_data...\n",
            "[nltk_data]   Package wordnet is already up-to-date!\n",
            "[nltk_data] Downloading package stopwords to /root/nltk_data...\n",
            "[nltk_data]   Package stopwords is already up-to-date!\n",
            "[nltk_data] Downloading package punkt to /root/nltk_data...\n",
            "[nltk_data]   Package punkt is already up-to-date!\n"
          ]
        },
        {
          "output_type": "execute_result",
          "data": {
            "text/plain": [
              "True"
            ]
          },
          "metadata": {},
          "execution_count": 22
        }
      ],
      "source": [
        "import numpy as np\n",
        "import pandas as pd\n",
        "import pickle\n",
        "from statistics import mode\n",
        "import nltk\n",
        "from nltk import word_tokenize\n",
        "from nltk.stem import LancasterStemmer\n",
        "nltk.download('wordnet')\n",
        "nltk.download('stopwords')\n",
        "nltk.download('punkt')"
      ]
    },
    {
      "cell_type": "code",
      "source": [
        "from nltk.corpus import stopwords"
      ],
      "metadata": {
        "id": "-8itUc-71e7H"
      },
      "execution_count": null,
      "outputs": []
    },
    {
      "cell_type": "code",
      "source": [
        "from tensorflow.keras.models import Model"
      ],
      "metadata": {
        "id": "4QOM18jl1o6M"
      },
      "execution_count": null,
      "outputs": []
    },
    {
      "cell_type": "code",
      "source": [
        "from tensorflow.keras import models\n",
        "from tensorflow.keras import backend as K"
      ],
      "metadata": {
        "id": "E5o6loHP1rL0"
      },
      "execution_count": null,
      "outputs": []
    },
    {
      "cell_type": "code",
      "source": [
        "from tensorflow.keras.preprocessing.sequence import pad_sequences\n",
        "from tensorflow.keras.preprocessing.text import Tokenizer \n",
        "from tensorflow.keras.utils import plot_model\n",
        "from tensorflow.keras.layers import Input,LSTM,Embedding,Dense,Concatenate,Attention\n",
        "from sklearn.model_selection import train_test_split\n",
        "from bs4 import BeautifulSoup"
      ],
      "metadata": {
        "id": "KnUWWqbi12Kn"
      },
      "execution_count": null,
      "outputs": []
    },
    {
      "cell_type": "code",
      "source": [
        "import tensorflow as tf"
      ],
      "metadata": {
        "id": "6QsdwXsJ19zl"
      },
      "execution_count": null,
      "outputs": []
    },
    {
      "cell_type": "code",
      "source": [
        "df=pd.read_csv(\"/content/drive/MyDrive/data/Reviews.csv\", nrows=100000)"
      ],
      "metadata": {
        "id": "DQaxUDvH6by2"
      },
      "execution_count": null,
      "outputs": []
    },
    {
      "cell_type": "code",
      "source": [
        "df.head()"
      ],
      "metadata": {
        "colab": {
          "base_uri": "https://localhost:8080/",
          "height": 510
        },
        "id": "Ji-8q9Kuz2XJ",
        "outputId": "fa07ea50-3987-47ba-8c7a-aba38dba7971"
      },
      "execution_count": null,
      "outputs": [
        {
          "output_type": "execute_result",
          "data": {
            "text/plain": [
              "   Id   ProductId          UserId                      ProfileName  \\\n",
              "0   1  B001E4KFG0  A3SGXH7AUHU8GW                       delmartian   \n",
              "1   2  B00813GRG4  A1D87F6ZCVE5NK                           dll pa   \n",
              "2   3  B000LQOCH0   ABXLMWJIXXAIN  Natalia Corres \"Natalia Corres\"   \n",
              "3   4  B000UA0QIQ  A395BORC6FGVXV                             Karl   \n",
              "4   5  B006K2ZZ7K  A1UQRSCLF8GW1T    Michael D. Bigham \"M. Wassir\"   \n",
              "\n",
              "   HelpfulnessNumerator  HelpfulnessDenominator  Score        Time  \\\n",
              "0                     1                       1      5  1303862400   \n",
              "1                     0                       0      1  1346976000   \n",
              "2                     1                       1      4  1219017600   \n",
              "3                     3                       3      2  1307923200   \n",
              "4                     0                       0      5  1350777600   \n",
              "\n",
              "                 Summary                                               Text  \n",
              "0  Good Quality Dog Food  I have bought several of the Vitality canned d...  \n",
              "1      Not as Advertised  Product arrived labeled as Jumbo Salted Peanut...  \n",
              "2  \"Delight\" says it all  This is a confection that has been around a fe...  \n",
              "3         Cough Medicine  If you are looking for the secret ingredient i...  \n",
              "4            Great taffy  Great taffy at a great price.  There was a wid...  "
            ],
            "text/html": [
              "\n",
              "  <div id=\"df-835ed4c6-9b58-4142-ac2a-7a86f796187a\">\n",
              "    <div class=\"colab-df-container\">\n",
              "      <div>\n",
              "<style scoped>\n",
              "    .dataframe tbody tr th:only-of-type {\n",
              "        vertical-align: middle;\n",
              "    }\n",
              "\n",
              "    .dataframe tbody tr th {\n",
              "        vertical-align: top;\n",
              "    }\n",
              "\n",
              "    .dataframe thead th {\n",
              "        text-align: right;\n",
              "    }\n",
              "</style>\n",
              "<table border=\"1\" class=\"dataframe\">\n",
              "  <thead>\n",
              "    <tr style=\"text-align: right;\">\n",
              "      <th></th>\n",
              "      <th>Id</th>\n",
              "      <th>ProductId</th>\n",
              "      <th>UserId</th>\n",
              "      <th>ProfileName</th>\n",
              "      <th>HelpfulnessNumerator</th>\n",
              "      <th>HelpfulnessDenominator</th>\n",
              "      <th>Score</th>\n",
              "      <th>Time</th>\n",
              "      <th>Summary</th>\n",
              "      <th>Text</th>\n",
              "    </tr>\n",
              "  </thead>\n",
              "  <tbody>\n",
              "    <tr>\n",
              "      <th>0</th>\n",
              "      <td>1</td>\n",
              "      <td>B001E4KFG0</td>\n",
              "      <td>A3SGXH7AUHU8GW</td>\n",
              "      <td>delmartian</td>\n",
              "      <td>1</td>\n",
              "      <td>1</td>\n",
              "      <td>5</td>\n",
              "      <td>1303862400</td>\n",
              "      <td>Good Quality Dog Food</td>\n",
              "      <td>I have bought several of the Vitality canned d...</td>\n",
              "    </tr>\n",
              "    <tr>\n",
              "      <th>1</th>\n",
              "      <td>2</td>\n",
              "      <td>B00813GRG4</td>\n",
              "      <td>A1D87F6ZCVE5NK</td>\n",
              "      <td>dll pa</td>\n",
              "      <td>0</td>\n",
              "      <td>0</td>\n",
              "      <td>1</td>\n",
              "      <td>1346976000</td>\n",
              "      <td>Not as Advertised</td>\n",
              "      <td>Product arrived labeled as Jumbo Salted Peanut...</td>\n",
              "    </tr>\n",
              "    <tr>\n",
              "      <th>2</th>\n",
              "      <td>3</td>\n",
              "      <td>B000LQOCH0</td>\n",
              "      <td>ABXLMWJIXXAIN</td>\n",
              "      <td>Natalia Corres \"Natalia Corres\"</td>\n",
              "      <td>1</td>\n",
              "      <td>1</td>\n",
              "      <td>4</td>\n",
              "      <td>1219017600</td>\n",
              "      <td>\"Delight\" says it all</td>\n",
              "      <td>This is a confection that has been around a fe...</td>\n",
              "    </tr>\n",
              "    <tr>\n",
              "      <th>3</th>\n",
              "      <td>4</td>\n",
              "      <td>B000UA0QIQ</td>\n",
              "      <td>A395BORC6FGVXV</td>\n",
              "      <td>Karl</td>\n",
              "      <td>3</td>\n",
              "      <td>3</td>\n",
              "      <td>2</td>\n",
              "      <td>1307923200</td>\n",
              "      <td>Cough Medicine</td>\n",
              "      <td>If you are looking for the secret ingredient i...</td>\n",
              "    </tr>\n",
              "    <tr>\n",
              "      <th>4</th>\n",
              "      <td>5</td>\n",
              "      <td>B006K2ZZ7K</td>\n",
              "      <td>A1UQRSCLF8GW1T</td>\n",
              "      <td>Michael D. Bigham \"M. Wassir\"</td>\n",
              "      <td>0</td>\n",
              "      <td>0</td>\n",
              "      <td>5</td>\n",
              "      <td>1350777600</td>\n",
              "      <td>Great taffy</td>\n",
              "      <td>Great taffy at a great price.  There was a wid...</td>\n",
              "    </tr>\n",
              "  </tbody>\n",
              "</table>\n",
              "</div>\n",
              "      <button class=\"colab-df-convert\" onclick=\"convertToInteractive('df-835ed4c6-9b58-4142-ac2a-7a86f796187a')\"\n",
              "              title=\"Convert this dataframe to an interactive table.\"\n",
              "              style=\"display:none;\">\n",
              "        \n",
              "  <svg xmlns=\"http://www.w3.org/2000/svg\" height=\"24px\"viewBox=\"0 0 24 24\"\n",
              "       width=\"24px\">\n",
              "    <path d=\"M0 0h24v24H0V0z\" fill=\"none\"/>\n",
              "    <path d=\"M18.56 5.44l.94 2.06.94-2.06 2.06-.94-2.06-.94-.94-2.06-.94 2.06-2.06.94zm-11 1L8.5 8.5l.94-2.06 2.06-.94-2.06-.94L8.5 2.5l-.94 2.06-2.06.94zm10 10l.94 2.06.94-2.06 2.06-.94-2.06-.94-.94-2.06-.94 2.06-2.06.94z\"/><path d=\"M17.41 7.96l-1.37-1.37c-.4-.4-.92-.59-1.43-.59-.52 0-1.04.2-1.43.59L10.3 9.45l-7.72 7.72c-.78.78-.78 2.05 0 2.83L4 21.41c.39.39.9.59 1.41.59.51 0 1.02-.2 1.41-.59l7.78-7.78 2.81-2.81c.8-.78.8-2.07 0-2.86zM5.41 20L4 18.59l7.72-7.72 1.47 1.35L5.41 20z\"/>\n",
              "  </svg>\n",
              "      </button>\n",
              "      \n",
              "  <style>\n",
              "    .colab-df-container {\n",
              "      display:flex;\n",
              "      flex-wrap:wrap;\n",
              "      gap: 12px;\n",
              "    }\n",
              "\n",
              "    .colab-df-convert {\n",
              "      background-color: #E8F0FE;\n",
              "      border: none;\n",
              "      border-radius: 50%;\n",
              "      cursor: pointer;\n",
              "      display: none;\n",
              "      fill: #1967D2;\n",
              "      height: 32px;\n",
              "      padding: 0 0 0 0;\n",
              "      width: 32px;\n",
              "    }\n",
              "\n",
              "    .colab-df-convert:hover {\n",
              "      background-color: #E2EBFA;\n",
              "      box-shadow: 0px 1px 2px rgba(60, 64, 67, 0.3), 0px 1px 3px 1px rgba(60, 64, 67, 0.15);\n",
              "      fill: #174EA6;\n",
              "    }\n",
              "\n",
              "    [theme=dark] .colab-df-convert {\n",
              "      background-color: #3B4455;\n",
              "      fill: #D2E3FC;\n",
              "    }\n",
              "\n",
              "    [theme=dark] .colab-df-convert:hover {\n",
              "      background-color: #434B5C;\n",
              "      box-shadow: 0px 1px 3px 1px rgba(0, 0, 0, 0.15);\n",
              "      filter: drop-shadow(0px 1px 2px rgba(0, 0, 0, 0.3));\n",
              "      fill: #FFFFFF;\n",
              "    }\n",
              "  </style>\n",
              "\n",
              "      <script>\n",
              "        const buttonEl =\n",
              "          document.querySelector('#df-835ed4c6-9b58-4142-ac2a-7a86f796187a button.colab-df-convert');\n",
              "        buttonEl.style.display =\n",
              "          google.colab.kernel.accessAllowed ? 'block' : 'none';\n",
              "\n",
              "        async function convertToInteractive(key) {\n",
              "          const element = document.querySelector('#df-835ed4c6-9b58-4142-ac2a-7a86f796187a');\n",
              "          const dataTable =\n",
              "            await google.colab.kernel.invokeFunction('convertToInteractive',\n",
              "                                                     [key], {});\n",
              "          if (!dataTable) return;\n",
              "\n",
              "          const docLinkHtml = 'Like what you see? Visit the ' +\n",
              "            '<a target=\"_blank\" href=https://colab.research.google.com/notebooks/data_table.ipynb>data table notebook</a>'\n",
              "            + ' to learn more about interactive tables.';\n",
              "          element.innerHTML = '';\n",
              "          dataTable['output_type'] = 'display_data';\n",
              "          await google.colab.output.renderOutput(dataTable, element);\n",
              "          const docLink = document.createElement('div');\n",
              "          docLink.innerHTML = docLinkHtml;\n",
              "          element.appendChild(docLink);\n",
              "        }\n",
              "      </script>\n",
              "    </div>\n",
              "  </div>\n",
              "  "
            ]
          },
          "metadata": {},
          "execution_count": 29
        }
      ]
    },
    {
      "cell_type": "code",
      "source": [
        "#drop the duplicate and na values from the records\n",
        "df.drop_duplicates(subset=['Text'],inplace=True)"
      ],
      "metadata": {
        "id": "WWte_PfR7B4W"
      },
      "execution_count": null,
      "outputs": []
    },
    {
      "cell_type": "code",
      "source": [
        "df.dropna(axis=0,inplace=True)"
      ],
      "metadata": {
        "id": "Iz3U5eYa7KjZ"
      },
      "execution_count": null,
      "outputs": []
    },
    {
      "cell_type": "code",
      "source": [
        "input_data = df.loc[:,'Text']\n",
        "target_data = df.loc[:,'Summary']"
      ],
      "metadata": {
        "id": "ara6Z4NM7Pbf"
      },
      "execution_count": null,
      "outputs": []
    },
    {
      "cell_type": "code",
      "source": [
        "input_data.head()"
      ],
      "metadata": {
        "colab": {
          "base_uri": "https://localhost:8080/"
        },
        "id": "1H8NxQTd7YaR",
        "outputId": "1ecf2660-2e44-4880-f2f2-188bea8fe6fc"
      },
      "execution_count": null,
      "outputs": [
        {
          "output_type": "execute_result",
          "data": {
            "text/plain": [
              "0    I have bought several of the Vitality canned d...\n",
              "1    Product arrived labeled as Jumbo Salted Peanut...\n",
              "2    This is a confection that has been around a fe...\n",
              "3    If you are looking for the secret ingredient i...\n",
              "4    Great taffy at a great price.  There was a wid...\n",
              "Name: Text, dtype: object"
            ]
          },
          "metadata": {},
          "execution_count": 33
        }
      ]
    },
    {
      "cell_type": "code",
      "source": [
        "input_texts=[]\n",
        "target_texts=[]\n",
        "input_words=[]\n",
        "target_words=[]"
      ],
      "metadata": {
        "id": "aKskEU3jSpxS"
      },
      "execution_count": null,
      "outputs": []
    },
    {
      "cell_type": "code",
      "source": [
        "contractions=pickle.load(open(\"/content/drive/MyDrive/text-summarization-ml-project/contractions.pkl\",\"rb\"))['contractions']\n"
      ],
      "metadata": {
        "id": "Nsa_2eTUZA_j"
      },
      "execution_count": null,
      "outputs": []
    },
    {
      "cell_type": "code",
      "source": [
        "#initialize stop words and LancasterStemmer\n",
        "stop_words=set(stopwords.words('english'))\n",
        "stemm=LancasterStemmer()"
      ],
      "metadata": {
        "id": "MePNGfA1Z5aY"
      },
      "execution_count": null,
      "outputs": []
    },
    {
      "cell_type": "code",
      "source": [
        "def clean(texts,src):\n",
        "  #remove the html tags\n",
        "  texts = BeautifulSoup(texts, \"lxml\").text\n",
        "  #tokenize the text into words \n",
        "  words=word_tokenize(texts.lower())\n",
        "  #filter words which contains \\ \n",
        "  #integers or their length is less than or equal to 3\n",
        "  words= list(filter(lambda w:(w.isalpha() and len(w)>=3),words))\n",
        "  #contraction file to expand shortened words\n",
        "  words= [contractions[w] if w in contractions else w for w in words ]\n",
        "  #stem the words to their root word and filter stop words\n",
        "  if src==\"inputs\":\n",
        "    words= [stemm.stem(w) for w in words if w not in stop_words]\n",
        "  else:\n",
        "    words= [w for w in words if w not in stop_words]\n",
        "  return words"
      ],
      "metadata": {
        "id": "-l7BAzEE0-Ez"
      },
      "execution_count": null,
      "outputs": []
    },
    {
      "cell_type": "code",
      "source": [
        "#pass the input records and taret records\n",
        "for in_txt,tr_txt in zip(input_data,target_data):\n",
        "  in_words= clean(in_txt,\"inputs\")\n",
        "  input_texts+= [' '.join(in_words)]\n",
        "  input_words+= in_words\n",
        "  #add 'sos' at start and 'eos' at end of text\n",
        "  tr_words= clean(\"sos \"+tr_txt+\" eos\",\"target\")\n",
        "  target_texts+= [' '.join(tr_words)]\n",
        "  target_words+= tr_words\n"
      ],
      "metadata": {
        "id": "hfuFfabj1GCg"
      },
      "execution_count": null,
      "outputs": []
    },
    {
      "cell_type": "code",
      "source": [
        "#store only unique words from input and target list of words\n",
        "input_words = sorted(list(set(input_words)))\n",
        "target_words = sorted(list(set(target_words)))\n",
        "num_in_words = len(input_words) #total number of input words\n",
        "num_tr_words = len(target_words) #total number of target words\n",
        "\n",
        "#get the length of the input and target texts which appears most often  \n",
        "max_in_len = mode([len(i) for i in input_texts])\n",
        "max_tr_len = mode([len(i) for i in target_texts])"
      ],
      "metadata": {
        "id": "AOuSUly11ImA"
      },
      "execution_count": null,
      "outputs": []
    },
    {
      "cell_type": "code",
      "source": [
        "print(\"number of input words : \",num_in_words)\n",
        "print(\"number of target words : \",num_tr_words)\n",
        "print(\"maximum input length : \",max_in_len)\n",
        "print(\"maximum target length : \",max_tr_len)\n"
      ],
      "metadata": {
        "id": "3FXtDJQQ19Nv",
        "colab": {
          "base_uri": "https://localhost:8080/"
        },
        "outputId": "9b8de11b-fe93-444d-d379-84ad7f789976"
      },
      "execution_count": null,
      "outputs": [
        {
          "output_type": "stream",
          "name": "stdout",
          "text": [
            "number of input words :  32198\n",
            "number of target words :  14170\n",
            "maximum input length :  74\n",
            "maximum target length :  17\n"
          ]
        }
      ]
    },
    {
      "cell_type": "code",
      "source": [
        "#split the input and target text into 80:20 ratio or testing size of 20%.\n",
        "x_train,x_test,y_train,y_test=train_test_split(input_texts,target_texts,test_size=0.2,random_state=0)\n"
      ],
      "metadata": {
        "id": "UOhy5P9b1_Fd"
      },
      "execution_count": null,
      "outputs": []
    },
    {
      "cell_type": "code",
      "source": [
        "#train the tokenizer with all the words\n",
        "in_tokenizer = Tokenizer()\n",
        "in_tokenizer.fit_on_texts(x_train)\n",
        "tr_tokenizer = Tokenizer()\n",
        "tr_tokenizer.fit_on_texts(y_train)"
      ],
      "metadata": {
        "id": "9ViiarR72Czy"
      },
      "execution_count": null,
      "outputs": []
    },
    {
      "cell_type": "code",
      "source": [
        "#convert text into sequence of integers\n",
        "#where the integer will be the index of that word\n",
        "x_train= in_tokenizer.texts_to_sequences(x_train) \n",
        "y_train= tr_tokenizer.texts_to_sequences(y_train) "
      ],
      "metadata": {
        "id": "x-l53Bcx2FOk"
      },
      "execution_count": null,
      "outputs": []
    },
    {
      "cell_type": "code",
      "source": [
        "#pad array of 0's if the length is less than the maximum length \n",
        "en_in_data= pad_sequences(x_train,  maxlen=max_in_len, padding='post') \n",
        "dec_data= pad_sequences(y_train,  maxlen=max_tr_len, padding='post')\n"
      ],
      "metadata": {
        "id": "c865v4Ma2HBa"
      },
      "execution_count": null,
      "outputs": []
    },
    {
      "cell_type": "code",
      "source": [
        "\n",
        "#decoder input data will not include the last word \n",
        "#i.e. 'eos' in decoder input data\n",
        "dec_in_data = dec_data[:,:-1]\n",
        "#decoder target data will be one time step ahead as it will not include\n",
        "# the first word i.e 'sos'\n",
        "dec_tr_data = dec_data.reshape(len(dec_data),max_tr_len,1)[:,1:]"
      ],
      "metadata": {
        "id": "Q8b8Kxk62InT"
      },
      "execution_count": null,
      "outputs": []
    },
    {
      "cell_type": "code",
      "source": [
        "K.clear_session() \n",
        "latent_dim = 500\n"
      ],
      "metadata": {
        "id": "Wy5zoJ612Lio"
      },
      "execution_count": null,
      "outputs": []
    },
    {
      "cell_type": "code",
      "source": [
        "#create input object of total number of input words\n",
        "en_inputs = Input(shape=(max_in_len,)) \n",
        "en_embedding = Embedding(num_in_words+1, latent_dim)(en_inputs) \n"
      ],
      "metadata": {
        "id": "HPpgm8DV2NFS"
      },
      "execution_count": null,
      "outputs": []
    },
    {
      "cell_type": "code",
      "source": [
        "#create 3 stacked LSTM layer with the shape of hidden dimension\n",
        "#LSTM 1\n",
        "en_lstm1= LSTM(latent_dim, return_state=True, return_sequences=True) \n",
        "en_outputs1, state_h1, state_c1= en_lstm1(en_embedding) \n",
        "\n",
        "#LSTM2\n",
        "en_lstm2= LSTM(latent_dim, return_state=True, return_sequences=True) \n",
        "en_outputs2, state_h2, state_c2= en_lstm2(en_outputs1) \n",
        "\n",
        "#LSTM3\n",
        "en_lstm3= LSTM(latent_dim,return_sequences=True,return_state=True)\n",
        "en_outputs3 , state_h3 , state_c3= en_lstm3(en_outputs2)"
      ],
      "metadata": {
        "id": "F7XpDPLx2OvA"
      },
      "execution_count": null,
      "outputs": []
    },
    {
      "cell_type": "code",
      "source": [
        "\n",
        "#encoder states\n",
        "en_states= [state_h3, state_c3]\n",
        "\n",
        "# Decoder. \n",
        "dec_inputs = Input(shape=(None,)) \n",
        "dec_emb_layer = Embedding(num_tr_words+1, latent_dim) \n",
        "dec_embedding = dec_emb_layer(dec_inputs) "
      ],
      "metadata": {
        "id": "nSt-VdZw2RDU"
      },
      "execution_count": null,
      "outputs": []
    },
    {
      "cell_type": "code",
      "source": [
        "#initialize decoder's LSTM layer with the output states of encoder\n",
        "dec_lstm = LSTM(latent_dim, return_sequences=True, return_state=True)\n",
        "dec_outputs, *_ = dec_lstm(dec_embedding,initial_state=en_states) \n"
      ],
      "metadata": {
        "id": "vJdHfKzE2Vf6"
      },
      "execution_count": null,
      "outputs": []
    },
    {
      "cell_type": "code",
      "source": [
        "\n",
        "#Attention layer\n",
        "attention =Attention()\n",
        "attn_out = attention([dec_outputs,en_outputs3])"
      ],
      "metadata": {
        "id": "PyRlImrK2XV5"
      },
      "execution_count": null,
      "outputs": []
    },
    {
      "cell_type": "code",
      "source": [
        "#Concatenate the attention output with the decoder ouputs\n",
        "merge=Concatenate(axis=-1, name='concat_layer1')([dec_outputs,attn_out])"
      ],
      "metadata": {
        "id": "TOB9KiLq2Y8b"
      },
      "execution_count": null,
      "outputs": []
    },
    {
      "cell_type": "code",
      "source": [
        "#Dense layer (output layer)\n",
        "dec_dense = Dense(num_tr_words+1, activation='softmax') \n",
        "dec_outputs = dec_dense(merge) \n"
      ],
      "metadata": {
        "id": "XM_nuUsi2bfw"
      },
      "execution_count": null,
      "outputs": []
    },
    {
      "cell_type": "code",
      "source": [
        "\n",
        "#Mode class and model summary\n",
        "model = Model([en_inputs, dec_inputs], dec_outputs) \n",
        "model.summary()\n",
        "plot_model(model, to_file='model_plot.png', show_shapes=True, show_layer_names=True)"
      ],
      "metadata": {
        "id": "NmHt3Inw2gg6",
        "colab": {
          "base_uri": "https://localhost:8080/",
          "height": 1000
        },
        "outputId": "0a1e8387-f57c-4897-9d7e-b47c0fc5774a"
      },
      "execution_count": null,
      "outputs": [
        {
          "output_type": "stream",
          "name": "stdout",
          "text": [
            "Model: \"model\"\n",
            "__________________________________________________________________________________________________\n",
            " Layer (type)                   Output Shape         Param #     Connected to                     \n",
            "==================================================================================================\n",
            " input_1 (InputLayer)           [(None, 74)]         0           []                               \n",
            "                                                                                                  \n",
            " embedding (Embedding)          (None, 74, 500)      16099500    ['input_1[0][0]']                \n",
            "                                                                                                  \n",
            " lstm (LSTM)                    [(None, 74, 500),    2002000     ['embedding[0][0]']              \n",
            "                                 (None, 500),                                                     \n",
            "                                 (None, 500)]                                                     \n",
            "                                                                                                  \n",
            " input_2 (InputLayer)           [(None, None)]       0           []                               \n",
            "                                                                                                  \n",
            " lstm_1 (LSTM)                  [(None, 74, 500),    2002000     ['lstm[0][0]']                   \n",
            "                                 (None, 500),                                                     \n",
            "                                 (None, 500)]                                                     \n",
            "                                                                                                  \n",
            " embedding_1 (Embedding)        (None, None, 500)    7085500     ['input_2[0][0]']                \n",
            "                                                                                                  \n",
            " lstm_2 (LSTM)                  [(None, 74, 500),    2002000     ['lstm_1[0][0]']                 \n",
            "                                 (None, 500),                                                     \n",
            "                                 (None, 500)]                                                     \n",
            "                                                                                                  \n",
            " lstm_3 (LSTM)                  [(None, None, 500),  2002000     ['embedding_1[0][0]',            \n",
            "                                 (None, 500),                     'lstm_2[0][1]',                 \n",
            "                                 (None, 500)]                     'lstm_2[0][2]']                 \n",
            "                                                                                                  \n",
            " attention (Attention)          (None, None, 500)    0           ['lstm_3[0][0]',                 \n",
            "                                                                  'lstm_2[0][0]']                 \n",
            "                                                                                                  \n",
            " concat_layer1 (Concatenate)    (None, None, 1000)   0           ['lstm_3[0][0]',                 \n",
            "                                                                  'attention[0][0]']              \n",
            "                                                                                                  \n",
            " dense (Dense)                  (None, None, 14171)  14185171    ['concat_layer1[0][0]']          \n",
            "                                                                                                  \n",
            "==================================================================================================\n",
            "Total params: 45,378,171\n",
            "Trainable params: 45,378,171\n",
            "Non-trainable params: 0\n",
            "__________________________________________________________________________________________________\n"
          ]
        },
        {
          "output_type": "execute_result",
          "data": {
            "image/png": "[encoded data removed]",
            "text/plain": [
              "<IPython.core.display.Image object>"
            ]
          },
          "metadata": {},
          "execution_count": 55
        }
      ]
    },
    {
      "cell_type": "code",
      "source": [
        "model.compile( \n",
        "    optimizer=\"rmsprop\", loss=\"sparse_categorical_crossentropy\", metrics=[\"accuracy\"] ) \n",
        "model.fit( \n",
        "    [en_in_data, dec_in_data],\n",
        "    dec_tr_data, \n",
        "    batch_size=512, \n",
        "    epochs=10, \n",
        "    validation_split=0.1,\n",
        "    )"
      ],
      "metadata": {
        "id": "gUwQ4kM-2g5-",
        "colab": {
          "base_uri": "https://localhost:8080/"
        },
        "outputId": "f85c17dc-b18c-4fa9-f5d7-27fbf4f19985"
      },
      "execution_count": null,
      "outputs": [
        {
          "output_type": "stream",
          "name": "stdout",
          "text": [
            "Epoch 1/10\n",
            "125/125 [==============================] - 99s 710ms/step - loss: 1.5334 - accuracy: 0.8106 - val_loss: 1.2828 - val_accuracy: 0.8343\n",
            "Epoch 2/10\n",
            "125/125 [==============================] - 101s 805ms/step - loss: 1.2414 - accuracy: 0.8342 - val_loss: 1.2187 - val_accuracy: 0.8368\n",
            "Epoch 3/10\n",
            "125/125 [==============================] - 101s 810ms/step - loss: 1.1676 - accuracy: 0.8368 - val_loss: 1.1620 - val_accuracy: 0.8393\n",
            "Epoch 4/10\n",
            "125/125 [==============================] - 101s 812ms/step - loss: 1.1151 - accuracy: 0.8388 - val_loss: 1.1435 - val_accuracy: 0.8403\n",
            "Epoch 5/10\n",
            "125/125 [==============================] - 102s 815ms/step - loss: 1.0725 - accuracy: 0.8408 - val_loss: 1.1274 - val_accuracy: 0.8408\n",
            "Epoch 6/10\n",
            "125/125 [==============================] - 102s 816ms/step - loss: 1.0336 - accuracy: 0.8426 - val_loss: 1.1094 - val_accuracy: 0.8424\n",
            "Epoch 7/10\n",
            "125/125 [==============================] - 102s 816ms/step - loss: 0.9965 - accuracy: 0.8443 - val_loss: 1.1059 - val_accuracy: 0.8426\n",
            "Epoch 8/10\n",
            "125/125 [==============================] - 102s 814ms/step - loss: 0.9616 - accuracy: 0.8463 - val_loss: 1.0985 - val_accuracy: 0.8422\n",
            "Epoch 9/10\n",
            "125/125 [==============================] - 102s 814ms/step - loss: 0.9272 - accuracy: 0.8480 - val_loss: 1.0939 - val_accuracy: 0.8435\n",
            "Epoch 10/10\n",
            "125/125 [==============================] - 102s 813ms/step - loss: 0.8934 - accuracy: 0.8499 - val_loss: 1.0952 - val_accuracy: 0.8431\n"
          ]
        },
        {
          "output_type": "execute_result",
          "data": {
            "text/plain": [
              "<keras.callbacks.History at 0x7efd182b96d0>"
            ]
          },
          "metadata": {},
          "execution_count": 56
        }
      ]
    },
    {
      "cell_type": "code",
      "source": [
        "\n",
        "#Save model\n",
        "model.save(\"s2s\")\n"
      ],
      "metadata": {
        "id": "ZTRWLM5J2mx4",
        "colab": {
          "base_uri": "https://localhost:8080/"
        },
        "outputId": "88a48556-6690-4f25-d247-434b6922621f"
      },
      "execution_count": null,
      "outputs": [
        {
          "output_type": "stream",
          "name": "stderr",
          "text": [
            "WARNING:absl:Found untraced functions such as lstm_cell_layer_call_fn, lstm_cell_layer_call_and_return_conditional_losses, lstm_cell_1_layer_call_fn, lstm_cell_1_layer_call_and_return_conditional_losses, lstm_cell_2_layer_call_fn while saving (showing 5 of 8). These functions will not be directly callable after loading.\n",
            "WARNING:absl:<keras.layers.recurrent.LSTMCell object at 0x7efd182f28d0> has the same name 'LSTMCell' as a built-in Keras object. Consider renaming <class 'keras.layers.recurrent.LSTMCell'> to avoid naming conflicts when loading with `tf.keras.models.load_model`. If renaming is not possible, pass the object in the `custom_objects` parameter of the load function.\n",
            "WARNING:absl:<keras.layers.recurrent.LSTMCell object at 0x7efd182ea710> has the same name 'LSTMCell' as a built-in Keras object. Consider renaming <class 'keras.layers.recurrent.LSTMCell'> to avoid naming conflicts when loading with `tf.keras.models.load_model`. If renaming is not possible, pass the object in the `custom_objects` parameter of the load function.\n",
            "WARNING:absl:<keras.layers.recurrent.LSTMCell object at 0x7efd1829ef10> has the same name 'LSTMCell' as a built-in Keras object. Consider renaming <class 'keras.layers.recurrent.LSTMCell'> to avoid naming conflicts when loading with `tf.keras.models.load_model`. If renaming is not possible, pass the object in the `custom_objects` parameter of the load function.\n",
            "WARNING:absl:<keras.layers.recurrent.LSTMCell object at 0x7efd1823a510> has the same name 'LSTMCell' as a built-in Keras object. Consider renaming <class 'keras.layers.recurrent.LSTMCell'> to avoid naming conflicts when loading with `tf.keras.models.load_model`. If renaming is not possible, pass the object in the `custom_objects` parameter of the load function.\n"
          ]
        }
      ]
    },
    {
      "cell_type": "code",
      "source": [
        "# encoder inference\n",
        "latent_dim=500\n",
        "#load the model\n",
        "model = models.load_model(\"s2s\")"
      ],
      "metadata": {
        "id": "NUs4668Q2qYE"
      },
      "execution_count": null,
      "outputs": []
    },
    {
      "cell_type": "code",
      "source": [
        "#construct encoder model from the output of 6 layer i.e.last LSTM layer\n",
        "en_outputs,state_h_enc,state_c_enc = model.layers[6].output\n",
        "en_states=[state_h_enc,state_c_enc]\n",
        "#add input and state from the layer.\n",
        "en_model = Model(model.input[0],[en_outputs]+en_states)"
      ],
      "metadata": {
        "id": "tGrKsVYS2uTS"
      },
      "execution_count": null,
      "outputs": []
    },
    {
      "cell_type": "code",
      "source": [
        "# decoder inference\n",
        "#create Input object for hidden and cell state for decoder\n",
        "#shape of layer with hidden or latent dimension\n",
        "dec_state_input_h = Input(shape=(latent_dim,))\n",
        "dec_state_input_c = Input(shape=(latent_dim,))\n",
        "dec_hidden_state_input = Input(shape=(max_in_len,latent_dim))\n"
      ],
      "metadata": {
        "id": "_Tyqi8Xi2v_9"
      },
      "execution_count": null,
      "outputs": []
    },
    {
      "cell_type": "code",
      "source": [
        "# Get the embeddings and input layer from the model\n",
        "dec_inputs = model.input[1]\n",
        "dec_emb_layer = model.layers[5]\n",
        "dec_lstm = model.layers[7]\n",
        "dec_embedding= dec_emb_layer(dec_inputs)\n"
      ],
      "metadata": {
        "id": "vtH-66o82yYF"
      },
      "execution_count": null,
      "outputs": []
    },
    {
      "cell_type": "code",
      "source": [
        "#add input and initialize LSTM layer with encoder LSTM states.\n",
        "dec_outputs2, state_h2, state_c2 = dec_lstm(dec_embedding, initial_state=[dec_state_input_h,dec_state_input_c])"
      ],
      "metadata": {
        "id": "9nzUeFBR20ZX"
      },
      "execution_count": null,
      "outputs": []
    },
    {
      "cell_type": "code",
      "source": [
        "#Attention layer\n",
        "attention = model.layers[8]\n",
        "attn_out2 = attention([dec_outputs2,dec_hidden_state_input])\n",
        "\n",
        "merge2 = Concatenate(axis=-1)([dec_outputs2, attn_out2])\n"
      ],
      "metadata": {
        "id": "GWZ1W_wC22bp"
      },
      "execution_count": null,
      "outputs": []
    },
    {
      "cell_type": "code",
      "source": [
        "# Finally define the Model Class\n",
        "dec_model = Model(\n",
        "[dec_inputs] + [dec_hidden_state_input,dec_state_input_h,dec_state_input_c],\n",
        "[dec_outputs2] + [state_h2, state_c2])"
      ],
      "metadata": {
        "id": "H1Nk-9rU24a8"
      },
      "execution_count": null,
      "outputs": []
    },
    {
      "cell_type": "code",
      "source": [
        "#create a dictionary with a key as index and value as words.\n",
        "reverse_target_word_index = tr_tokenizer.index_word\n",
        "reverse_source_word_index = in_tokenizer.index_word\n",
        "target_word_index = tr_tokenizer.word_index\n",
        "reverse_target_word_index[0]=' '"
      ],
      "metadata": {
        "id": "eLdn7Dk626yp"
      },
      "execution_count": null,
      "outputs": []
    },
    {
      "cell_type": "code",
      "source": [
        "def decode_sequence(input_seq):\n",
        "    #get the encoder output and states by passing the input sequence\n",
        "    en_out, en_h, en_c= en_model.predict(input_seq)\n",
        "\n",
        "    #target sequence with inital word as 'sos'\n",
        "    target_seq = np.zeros((1, 1))\n",
        "    target_seq[0, 0] = target_word_index['sos']\n",
        "\n",
        "    #if the iteration reaches the end of text than it will be stop the iteration\n",
        "    stop_condition = False\n",
        "    #append every predicted word in decoded sentence\n",
        "    decoded_sentence = \"\"\n",
        "    while not stop_condition: \n",
        "        #get predicted output, hidden and cell state.\n",
        "        output_words, dec_h, dec_c= dec_model.predict([target_seq] + [en_out,en_h, en_c])\n",
        "        \n",
        "        #get the index and from the dictionary get the word for that index.\n",
        "        word_index = np.argmax(output_words[0, -1, :])\n",
        "        text_word = reverse_target_word_index[word_index]\n",
        "        decoded_sentence += text_word +\" \"\n",
        "\n",
        "        # Exit condition: either hit max length\n",
        "        # or find a stop word or last word.\n",
        "        if text_word == \"eos\" or len(decoded_sentence) > max_tr_len:\n",
        "          stop_condition = True\n",
        "        \n",
        "        #update target sequence to the current word index.\n",
        "        target_seq = np.zeros((1, 1))\n",
        "        target_seq[0, 0] = word_index\n",
        "        en_h, en_c = dec_h, dec_c\n",
        "    \n",
        "    #return the deocded sentence\n",
        "    return decoded_sentence"
      ],
      "metadata": {
        "id": "sqglnSle28It"
      },
      "execution_count": null,
      "outputs": []
    },
    {
      "cell_type": "code",
      "source": [
        "inp_review = input(\"Enter : \")\n",
        "print(\"Review :\",inp_review)\n",
        "\n",
        "inp_review = clean(inp_review,\"inputs\")\n",
        "inp_review = ' '.join(inp_review)\n",
        "inp_x= in_tokenizer.texts_to_sequences([inp_review]) \n",
        "inp_x= pad_sequences(inp_x,  maxlen=max_in_len, padding='post')\n",
        "\n",
        "summary=decode_sequence(inp_x.reshape(1,max_in_len))\n",
        "if 'eos' in summary :\n",
        "  summary=summary.replace('eos','')\n",
        "print(\"\\nPredicted summary:\",summary);print(\"\\n\")"
      ],
      "metadata": {
        "colab": {
          "base_uri": "https://localhost:8080/"
        },
        "id": "2LqpQhX63ALK",
        "outputId": "8fcaffda-a14e-42f6-e2ff-84df28a760e3"
      },
      "execution_count": null,
      "outputs": [
        {
          "output_type": "stream",
          "name": "stdout",
          "text": [
            "Enter : i love the taste of tea\n",
            "Review : i love the taste of tea\n",
            "\n",
            "Predicted summary: things away honey \n",
            "\n",
            "\n"
          ]
        }
      ]
    },
    {
      "cell_type": "code",
      "source": [
        "\n"
      ],
      "metadata": {
        "id": "kk_1zXpL3DGx"
      },
      "execution_count": null,
      "outputs": []
    },
    {
      "cell_type": "code",
      "source": [],
      "metadata": {
        "id": "iAb-NiDzXFPy"
      },
      "execution_count": null,
      "outputs": []
    }
  ]
}